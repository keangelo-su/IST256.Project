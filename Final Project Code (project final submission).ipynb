{
 "cells": [
  {
   "cell_type": "code",
   "execution_count": 9,
   "metadata": {},
   "outputs": [
    {
     "name": "stdout",
     "output_type": "stream",
     "text": [
      "Requirement already satisfied: pillow in /opt/conda/lib/python3.7/site-packages (6.2.1)\n",
      "Welcome to Makeup and Skincare Finder!\n",
      "Would you like to search makeup or skincare products? makeup\n",
      "Enter a makeup brand: boosh\n",
      "Enter a product type: lipstick\n",
      "Enter the type of category: lipstick\n",
      "Here is your product result: \n",
      " boosh Lipstick \n",
      " Description: All of our products are free from lead and heavy metals, parabens, phthalates, artificial colourants, and synthetic fragrances.  Boosh lipstick glides on smoothly for clean & protective SPF coverage. They are filled with hydrating oils and butters to preserve and enhance your lips natural surface. Organic sweet orange oil gives a light and cheerful scent. \n",
      " Safety Information: ['Organic', 'Chemical Free'] \n",
      " Link to buy: https://www.boosh.ca/collections/all\n"
     ]
    },
    {
     "data": {
      "image/png": "[encoded data removed]",
      "text/plain": [
       "<Figure size 432x288 with 1 Axes>"
      ]
     },
     "metadata": {
      "needs_background": "light"
     },
     "output_type": "display_data"
    }
   ],
   "source": [
    "!pip install -q requests\n",
    "!pip install pillow\n",
    "from PIL import Image\n",
    "import matplotlib.pyplot as plt\n",
    "import json\n",
    "import pandas as pd\n",
    "import requests\n",
    "\n",
    "try:\n",
    "    makeup_url = 'https://makeup-api.herokuapp.com/api/v1/products.json'\n",
    "    skincare_url = 'https://skincare-api.herokuapp.com/products.json'\n",
    "    makeup_products = pd.read_json(makeup_url)\n",
    "    skincare_products = pd.read_json(skincare_url)\n",
    "    print(\"Welcome to Makeup and Skincare Finder!\")\n",
    "    makeup_or_skincare = input(\"Would you like to search makeup or skincare products? \")\n",
    "    if makeup_or_skincare == 'makeup':\n",
    "        try:\n",
    "            input_brand = input(\"Enter a makeup brand: \") \n",
    "            input_product_type = input(\"Enter a product type: \")  \n",
    "            input_category = input(\"Enter the type of category: \") \n",
    "            params = {'brand' : input_brand, 'product_type' : input_product_type, 'category': input_category}\n",
    "            makeup_response = requests.get('https://makeup-api.herokuapp.com/api/v1/products.json', params=params)\n",
    "            your_product = makeup_response.json()\n",
    "            brand = your_product[0]['brand']\n",
    "            name = your_product[0]['name']\n",
    "            description = your_product[0]['description']\n",
    "            product_link = your_product[0]['product_link']\n",
    "            tags = your_product[0]['tag_list']\n",
    "            image_link = your_product[0]['image_link']\n",
    "            print( \"Here is your product result: \\n\",brand, name,'\\n Description:', description,'\\n Safety Information:', tags,'\\n Link to buy:',product_link)\n",
    "            response = requests.get(image_link, stream=True)\n",
    "            img = Image.open(response.raw)\n",
    "            plt.imshow(img)\n",
    "            plt.show() \n",
    "        except:\n",
    "            print(\"Unfortunately the parameters you entered do not match a makeup product we have available.\")\n",
    "    elif makeup_or_skincare == 'skincare':\n",
    "        input_skin_brand = input(\"Enter skincare brand: \")\n",
    "        input_skin_name = input(\"Enter skincare product name: \") \n",
    "        skincare_response = requests.get('https://skincare-api.herokuapp.com/products.json')\n",
    "        skincare = skincare_response.json()\n",
    "        for product in skincare:\n",
    "            if product['brand'] == input_skin_brand and product['name'] == input_skin_name:\n",
    "                print(\"Here are your results:\\n\",product['brand'],product['name'],\"contains the following ingredients:\",product['ingredient_list'])\n",
    "        if product['brand'] != input_skin_brand or product['name'] != input_skin_name:\n",
    "            print(\"Unfortunately the parameters you entered do not match a skincare product we have available.\")\n",
    "                \n",
    "    else:\n",
    "        print(\"Error in input. Check spelling of 'makeup' or 'skincare'\")\n",
    "except requests.exceptions.RequestException as e:\n",
    "    print(\"ERROR: Cannot connect to \", makeup_url)\n",
    "    print(\"DETAILS:\", e)\n",
    "except requests.exceptions.HTTPError as e:\n",
    "    print(\"ERROR: Response from \", makeup_url, 'was not ok.')\n",
    "    print(\"DETAILS:\", e)\n",
    "except requests.exceptions.RequestException as e:\n",
    "    print(\"ERROR: Cannot connect to \", skincare_url)\n",
    "    print(\"DETAILS:\", e)\n",
    "except requests.exceptions.HTTPError as e:\n",
    "    print(\"ERROR: Response from \", skincare_url, 'was not ok.')\n",
    "    print(\"DETAILS:\", e)"
   ]
  },
  {
   "cell_type": "markdown",
   "metadata": {},
   "source": []
  }
 ],
 "metadata": {
  "kernelspec": {
   "display_name": "Python 3",
   "language": "python",
   "name": "python3"
  },
  "language_info": {
   "codemirror_mode": {
    "name": "ipython",
    "version": 3
   },
   "file_extension": ".py",
   "mimetype": "text/x-python",
   "name": "python",
   "nbconvert_exporter": "python",
   "pygments_lexer": "ipython3",
   "version": "3.7.3"
  }
 },
 "nbformat": 4,
 "nbformat_minor": 2
}
